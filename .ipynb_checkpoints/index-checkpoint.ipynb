{
 "cells": [
  {
   "cell_type": "code",
   "execution_count": null,
   "id": "f2d0f138",
   "metadata": {},
   "outputs": [],
   "source": [
    "#PRIMERO: Se leen las carpetas de los paises, la hidrografia y las ciudades que estan dentro de la carpeta mapas"
   ]
  },
  {
   "cell_type": "code",
   "execution_count": 1,
   "id": "309cd757",
   "metadata": {},
   "outputs": [],
   "source": [
    "import os, geopandas as gpd\n",
    "\n",
    "countries=gpd.read_file(os.path.join(\"maps\",\"World_Countries\",\"World_Countries.shp\"))\n",
    "rivers=gpd.read_file(os.path.join(\"maps\",\"World_Hydrography\",\"World_Hydrography.shp\"))\n",
    "cities=gpd.read_file(os.path.join(\"maps\",\"World_Cities\",\"World_Cities.shp\"))"
   ]
  },
  {
   "cell_type": "code",
   "execution_count": 2,
   "id": "c3b91245",
   "metadata": {},
   "outputs": [],
   "source": [
    "#SEGUNDO: Se llama al GEODataFrame contries para hacer uso de la libreria pandas"
   ]
  },
  {
   "cell_type": "code",
   "execution_count": 3,
   "id": "0c5de7a1",
   "metadata": {},
   "outputs": [
    {
     "data": {
      "text/plain": [
       "geopandas.geodataframe.GeoDataFrame"
      ]
     },
     "execution_count": 3,
     "metadata": {},
     "output_type": "execute_result"
    }
   ],
   "source": [
    "type(countries)"
   ]
  },
  {
   "cell_type": "code",
   "execution_count": 4,
   "id": "3ed4bcce",
   "metadata": {},
   "outputs": [],
   "source": [
    "#TERCERO: Se elige un pais, en este caso: Sudafrica"
   ]
  },
  {
   "cell_type": "code",
   "execution_count": 5,
   "id": "59ebd8a4",
   "metadata": {},
   "outputs": [],
   "source": [
    "sudafrica=countries[countries.COUNTRY=='South Africa']"
   ]
  },
  {
   "cell_type": "code",
   "execution_count": 6,
   "id": "e5e1c88c",
   "metadata": {},
   "outputs": [],
   "source": [
    "#CUARTO: Se plotea el mapa de Sudafrica y se configura el estilo de la imagen"
   ]
  },
  {
   "cell_type": "code",
   "execution_count": 7,
   "id": "cabd654a",
   "metadata": {},
   "outputs": [
    {
     "data": {
      "text/plain": [
       "<Geographic 2D CRS: EPSG:4326>\n",
       "Name: WGS 84\n",
       "Axis Info [ellipsoidal]:\n",
       "- Lat[north]: Geodetic latitude (degree)\n",
       "- Lon[east]: Geodetic longitude (degree)\n",
       "Area of Use:\n",
       "- name: World\n",
       "- bounds: (-180.0, -90.0, 180.0, 90.0)\n",
       "Datum: World Geodetic System 1984\n",
       "- Ellipsoid: WGS 84\n",
       "- Prime Meridian: Greenwich"
      ]
     },
     "execution_count": 7,
     "metadata": {},
     "output_type": "execute_result"
    }
   ],
   "source": [
    "countries.crs"
   ]
  },
  {
   "cell_type": "code",
   "execution_count": null,
   "id": "1cf060a3",
   "metadata": {},
   "outputs": [],
   "source": []
  },
  {
   "cell_type": "code",
   "execution_count": 8,
   "id": "6824b60c",
   "metadata": {},
   "outputs": [
    {
     "data": {
      "text/plain": [
       "<Axes: >"
      ]
     },
     "execution_count": 8,
     "metadata": {},
     "output_type": "execute_result"
    },
    {
     "data": {
      "image/png": "[encoded data removed]",
      "text/plain": [
       "<Figure size 640x480 with 1 Axes>"
      ]
     },
     "metadata": {},
     "output_type": "display_data"
    }
   ],
   "source": [
    "sudafrica.plot() "
   ]
  },
  {
   "cell_type": "code",
   "execution_count": 9,
   "id": "a54cbf6a",
   "metadata": {},
   "outputs": [],
   "source": [
    "#QUINTO: Se muestra la lista de las ciudades de Sudafrica"
   ]
  },
  {
   "cell_type": "code",
   "execution_count": 10,
   "id": "8874f8eb",
   "metadata": {},
   "outputs": [],
   "source": [
    "cities=cities.to_crs(countries.crs)"
   ]
  },
  {
   "cell_type": "code",
   "execution_count": 11,
   "id": "de3176a2",
   "metadata": {},
   "outputs": [
    {
     "data": {
      "text/html": [
       "<div>\n",
       "<style scoped>\n",
       "    .dataframe tbody tr th:only-of-type {\n",
       "        vertical-align: middle;\n",
       "    }\n",
       "\n",
       "    .dataframe tbody tr th {\n",
       "        vertical-align: top;\n",
       "    }\n",
       "\n",
       "    .dataframe thead th {\n",
       "        text-align: right;\n",
       "    }\n",
       "</style>\n",
       "<table border=\"1\" class=\"dataframe\">\n",
       "  <thead>\n",
       "    <tr style=\"text-align: right;\">\n",
       "      <th></th>\n",
       "      <th>NAME</th>\n",
       "      <th>COUNTRY</th>\n",
       "      <th>CAPITAL</th>\n",
       "      <th>geometry</th>\n",
       "    </tr>\n",
       "  </thead>\n",
       "  <tbody>\n",
       "    <tr>\n",
       "      <th>280</th>\n",
       "      <td>Pretoria</td>\n",
       "      <td>South Africa</td>\n",
       "      <td>Y</td>\n",
       "      <td>POINT (28.21837 -25.73135)</td>\n",
       "    </tr>\n",
       "    <tr>\n",
       "      <th>282</th>\n",
       "      <td>Johannesburg</td>\n",
       "      <td>South Africa</td>\n",
       "      <td>N</td>\n",
       "      <td>POINT (28.00431 -26.17896)</td>\n",
       "    </tr>\n",
       "    <tr>\n",
       "      <th>284</th>\n",
       "      <td>Durban</td>\n",
       "      <td>South Africa</td>\n",
       "      <td>N</td>\n",
       "      <td>POINT (30.94219 -29.83637)</td>\n",
       "    </tr>\n",
       "    <tr>\n",
       "      <th>291</th>\n",
       "      <td>Port Elizabeth</td>\n",
       "      <td>South Africa</td>\n",
       "      <td>N</td>\n",
       "      <td>POINT (25.48430 -33.88158)</td>\n",
       "    </tr>\n",
       "    <tr>\n",
       "      <th>346</th>\n",
       "      <td>Kimberley</td>\n",
       "      <td>South Africa</td>\n",
       "      <td>N</td>\n",
       "      <td>POINT (24.83000 -28.66000)</td>\n",
       "    </tr>\n",
       "  </tbody>\n",
       "</table>\n",
       "</div>"
      ],
      "text/plain": [
       "               NAME       COUNTRY CAPITAL                    geometry\n",
       "280        Pretoria  South Africa       Y  POINT (28.21837 -25.73135)\n",
       "282    Johannesburg  South Africa       N  POINT (28.00431 -26.17896)\n",
       "284          Durban  South Africa       N  POINT (30.94219 -29.83637)\n",
       "291  Port Elizabeth  South Africa       N  POINT (25.48430 -33.88158)\n",
       "346       Kimberley  South Africa       N  POINT (24.83000 -28.66000)"
      ]
     },
     "execution_count": 11,
     "metadata": {},
     "output_type": "execute_result"
    }
   ],
   "source": [
    "cities_sudafrica=cities[cities.COUNTRY=='South Africa']\n",
    "cities_sudafrica.head()"
   ]
  },
  {
   "cell_type": "code",
   "execution_count": 12,
   "id": "d2215975",
   "metadata": {},
   "outputs": [],
   "source": [
    "#SEXTO: Se plotean las ciudades de Sudafrica"
   ]
  },
  {
   "cell_type": "code",
   "execution_count": 13,
   "id": "fc61cab1",
   "metadata": {},
   "outputs": [
    {
     "data": {
      "text/plain": [
       "<Axes: >"
      ]
     },
     "execution_count": 13,
     "metadata": {},
     "output_type": "execute_result"
    },
    {
     "data": {
      "image/png": "[encoded data removed]",
      "text/plain": [
       "<Figure size 640x480 with 1 Axes>"
      ]
     },
     "metadata": {},
     "output_type": "display_data"
    }
   ],
   "source": [
    "cities_sudafrica=cities[cities.COUNTRY=='South Africa']\n",
    "cities_sudafrica.plot()"
   ]
  },
  {
   "cell_type": "code",
   "execution_count": 14,
   "id": "d6fe381f",
   "metadata": {},
   "outputs": [],
   "source": [
    "#SETIMO: Se muestra la lista de los rios de Sudafrica"
   ]
  },
  {
   "cell_type": "code",
   "execution_count": 15,
   "id": "929b19bf",
   "metadata": {},
   "outputs": [
    {
     "data": {
      "text/html": [
       "<div>\n",
       "<style scoped>\n",
       "    .dataframe tbody tr th:only-of-type {\n",
       "        vertical-align: middle;\n",
       "    }\n",
       "\n",
       "    .dataframe tbody tr th {\n",
       "        vertical-align: top;\n",
       "    }\n",
       "\n",
       "    .dataframe thead th {\n",
       "        text-align: right;\n",
       "    }\n",
       "</style>\n",
       "<table border=\"1\" class=\"dataframe\">\n",
       "  <thead>\n",
       "    <tr style=\"text-align: right;\">\n",
       "      <th></th>\n",
       "      <th>NAME</th>\n",
       "      <th>SYSTEM</th>\n",
       "      <th>geometry</th>\n",
       "    </tr>\n",
       "  </thead>\n",
       "  <tbody>\n",
       "    <tr>\n",
       "      <th>53</th>\n",
       "      <td>Orange</td>\n",
       "      <td>NaN</td>\n",
       "      <td>MULTILINESTRING ((29.23098 -28.86158, 29.22215...</td>\n",
       "    </tr>\n",
       "  </tbody>\n",
       "</table>\n",
       "</div>"
      ],
      "text/plain": [
       "      NAME SYSTEM                                           geometry\n",
       "53  Orange    NaN  MULTILINESTRING ((29.23098 -28.86158, 29.22215..."
      ]
     },
     "execution_count": 15,
     "metadata": {},
     "output_type": "execute_result"
    }
   ],
   "source": [
    "rivers_sudafrica = gpd.clip(gdf=rivers,mask=sudafrica)\n",
    "rivers_sudafrica.head()"
   ]
  },
  {
   "cell_type": "code",
   "execution_count": 16,
   "id": "5a2689d4",
   "metadata": {},
   "outputs": [],
   "source": [
    "#OCTAVO: Se plotean los rios de Sudafrica"
   ]
  },
  {
   "cell_type": "code",
   "execution_count": 17,
   "id": "5ffd10f8",
   "metadata": {},
   "outputs": [
    {
     "data": {
      "text/plain": [
       "<Axes: >"
      ]
     },
     "execution_count": 17,
     "metadata": {},
     "output_type": "execute_result"
    },
    {
     "data": {
      "image/png": "[encoded data removed]",
      "text/plain": [
       "<Figure size 640x480 with 1 Axes>"
      ]
     },
     "metadata": {},
     "output_type": "display_data"
    }
   ],
   "source": [
    "rivers_sudafrica = gpd.clip(gdf=rivers,mask=sudafrica)\n",
    "rivers_sudafrica.plot()"
   ]
  },
  {
   "cell_type": "code",
   "execution_count": 18,
   "id": "e3771686",
   "metadata": {},
   "outputs": [],
   "source": [
    "#NOVENO: Se plotean las 3 capas anteriores en una sola figura"
   ]
  },
  {
   "cell_type": "code",
   "execution_count": 19,
   "id": "3348e1f7",
   "metadata": {},
   "outputs": [
    {
     "data": {
      "text/plain": [
       "<Axes: >"
      ]
     },
     "execution_count": 19,
     "metadata": {},
     "output_type": "execute_result"
    },
    {
     "data": {
      "image/png": "[encoded data removed]",
      "text/plain": [
       "<Figure size 500x500 with 1 Axes>"
      ]
     },
     "metadata": {},
     "output_type": "display_data"
    }
   ],
   "source": [
    "base = sudafrica.plot(facecolor=\"greenyellow\", edgecolor='black', linewidth=0.4,figsize=(5,5))\n",
    "cities_sudafrica.plot(marker='+', color='red', markersize=15,ax=base)\n",
    "rivers_sudafrica.plot(edgecolor='blue', linewidth=0.5,ax=base)"
   ]
  },
  {
   "cell_type": "code",
   "execution_count": null,
   "id": "f8d49760",
   "metadata": {},
   "outputs": [],
   "source": []
  },
  {
   "cell_type": "code",
   "execution_count": null,
   "id": "51346c40",
   "metadata": {},
   "outputs": [],
   "source": []
  }
 ],
 "metadata": {
  "kernelspec": {
   "display_name": "Python 3 (ipykernel)",
   "language": "python",
   "name": "python3"
  },
  "language_info": {
   "codemirror_mode": {
    "name": "ipython",
    "version": 3
   },
   "file_extension": ".py",
   "mimetype": "text/x-python",
   "name": "python",
   "nbconvert_exporter": "python",
   "pygments_lexer": "ipython3",
   "version": "3.9.18"
  }
 },
 "nbformat": 4,
 "nbformat_minor": 5
}
