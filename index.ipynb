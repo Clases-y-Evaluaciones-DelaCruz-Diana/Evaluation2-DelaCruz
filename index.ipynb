{
 "cells": [
  {
   "cell_type": "code",
   "execution_count": null,
   "id": "fa4af3e0",
   "metadata": {},
   "outputs": [],
   "source": [
    "#PRIMERO: Se leen las carpetas de los paises, la hidrografia y las ciudades que estan dentro de la carpeta mapas"
   ]
  },
  {
   "cell_type": "code",
   "execution_count": null,
   "id": "f05b734a",
   "metadata": {},
   "outputs": [],
   "source": [
    "import os, geopandas as gpd\n",
    "\n",
    "countries=gpd.read_file(os.path.join(\"maps\",\"World_Countries\",\"World_Countries.shp\"))\n",
    "rivers=gpd.read_file(os.path.join(\"maps\",\"World_Hydrography\",\"World_Hydrography.shp\"))\n",
    "cities=gpd.read_file(os.path.join(\"maps\",\"World_Cities\",\"World_Cities.shp\"))"
   ]
  },
  {
   "cell_type": "code",
   "execution_count": null,
   "id": "b834f77e",
   "metadata": {},
   "outputs": [],
   "source": [
    "#SEGUNDO: Se llama al GEODataFrame contries para hacer uso de la libreria pandas"
   ]
  },
  {
   "cell_type": "code",
   "execution_count": null,
   "id": "a8073a36",
   "metadata": {},
   "outputs": [],
   "source": [
    "type(countries)"
   ]
  },
  {
   "cell_type": "code",
   "execution_count": null,
   "id": "b51e5440",
   "metadata": {},
   "outputs": [],
   "source": [
    "#TERCERO: Se elige un pais, en este caso: Sudafrica"
   ]
  },
  {
   "cell_type": "code",
   "execution_count": null,
   "id": "283a7a09",
   "metadata": {},
   "outputs": [],
   "source": [
    "sudafrica=countries[countries.COUNTRY=='South Africa']"
   ]
  },
  {
   "cell_type": "code",
   "execution_count": null,
   "id": "bfd69aea",
   "metadata": {},
   "outputs": [],
   "source": [
    "#CUARTO: Se plotea el mapa de Sudafrica y se configura el estilo de la imagen"
   ]
  },
  {
   "cell_type": "code",
   "execution_count": null,
   "id": "8407b2ca",
   "metadata": {},
   "outputs": [],
   "source": [
    "sudafrica.plot(facecolor=\"azure\", edgecolor='black', linewidth=0.1) "
   ]
  },
  {
   "cell_type": "code",
   "execution_count": null,
   "id": "49dfe122",
   "metadata": {},
   "outputs": [],
   "source": [
    "#QUINTO: Se muestra la lista de las ciudades de Sudafrica"
   ]
  },
  {
   "cell_type": "code",
   "execution_count": null,
   "id": "49e9809a",
   "metadata": {},
   "outputs": [],
   "source": [
    "cities_sudafrica=cities[cities.COUNTRY=='Brazil']\n",
    "cities_sudafrica.head()"
   ]
  },
  {
   "cell_type": "code",
   "execution_count": null,
   "id": "8bbeedb9",
   "metadata": {},
   "outputs": [],
   "source": [
    "#SEXTO: Se plotean las ciudades de Sudafrica"
   ]
  },
  {
   "cell_type": "code",
   "execution_count": null,
   "id": "45bd1a15",
   "metadata": {},
   "outputs": [],
   "source": [
    "cities_sudafrica=cities[cities.COUNTRY=='Brazil']\n",
    "cities_sudafrica.plot()"
   ]
  },
  {
   "cell_type": "code",
   "execution_count": null,
   "id": "24d40ba9",
   "metadata": {},
   "outputs": [],
   "source": [
    "#SETIMO: Se muestra la lista de los rios de Sudafrica"
   ]
  },
  {
   "cell_type": "code",
   "execution_count": null,
   "id": "744acd1c",
   "metadata": {},
   "outputs": [],
   "source": [
    "rivers_sudafrica = gpd.clip(gdf=rivers,mask=sudafrica)\n",
    "rivers_sudafrica.head()"
   ]
  },
  {
   "cell_type": "code",
   "execution_count": null,
   "id": "4d037aa5",
   "metadata": {},
   "outputs": [],
   "source": [
    "#OCTAVO: Se plotean los rios de Sudafrica"
   ]
  },
  {
   "cell_type": "code",
   "execution_count": null,
   "id": "5e2a0e60",
   "metadata": {},
   "outputs": [],
   "source": [
    "rivers_sudafrica = gpd.clip(gdf=rivers,mask=sudafrica)\n",
    "rivers_sudafrica.plot()"
   ]
  },
  {
   "cell_type": "code",
   "execution_count": null,
   "id": "a2c862d9",
   "metadata": {},
   "outputs": [],
   "source": [
    "#NOVENO: Se plotean las 3 capas anteriores en una sola figura"
   ]
  },
  {
   "cell_type": "code",
   "execution_count": null,
   "id": "3659665f",
   "metadata": {},
   "outputs": [],
   "source": [
    "base = sudafrica.plot(facecolor=\"greenyellow\", edgecolor='black', linewidth=0.4,figsize=(5,5))\n",
    "cities_sudafrica.plot(marker='+', color='red', markersize=15,ax=base)\n",
    "rivers_sudafrica.plot(edgecolor='blue', linewidth=0.5,ax=base)"
   ]
  },
  {
   "cell_type": "code",
   "execution_count": null,
   "id": "d988cf67",
   "metadata": {},
   "outputs": [],
   "source": []
  },
  {
   "cell_type": "code",
   "execution_count": null,
   "id": "ec33f03e",
   "metadata": {},
   "outputs": [],
   "source": []
  }
 ],
 "metadata": {
  "kernelspec": {
   "display_name": "Python 3 (ipykernel)",
   "language": "python",
   "name": "python3"
  },
  "language_info": {
   "codemirror_mode": {
    "name": "ipython",
    "version": 3
   },
   "file_extension": ".py",
   "mimetype": "text/x-python",
   "name": "python",
   "nbconvert_exporter": "python",
   "pygments_lexer": "ipython3",
   "version": "3.9.18"
  }
 },
 "nbformat": 4,
 "nbformat_minor": 5
}
