{
 "cells": [
  {
   "cell_type": "code",
   "execution_count": null,
   "id": "f2d0f138",
   "metadata": {},
   "outputs": [],
   "source": [
    "#PRIMERO: Se leen las carpetas de los paises, la hidrografia y las ciudades que estan dentro de la carpeta mapas"
   ]
  },
  {
   "cell_type": "code",
   "execution_count": 1,
   "id": "309cd757",
   "metadata": {},
   "outputs": [
    {
     "ename": "AttributeError",
     "evalue": "module 'geopandas' has no attribute 'read_file'",
     "output_type": "error",
     "traceback": [
      "\u001b[1;31m---------------------------------------------------------------------------\u001b[0m",
      "\u001b[1;31mAttributeError\u001b[0m                            Traceback (most recent call last)",
      "Cell \u001b[1;32mIn[1], line 3\u001b[0m\n\u001b[0;32m      1\u001b[0m \u001b[38;5;28;01mimport\u001b[39;00m \u001b[38;5;21;01mos\u001b[39;00m\u001b[38;5;241m,\u001b[39m \u001b[38;5;21;01mgeopandas\u001b[39;00m \u001b[38;5;28;01mas\u001b[39;00m \u001b[38;5;21;01mgpd\u001b[39;00m\n\u001b[1;32m----> 3\u001b[0m countries\u001b[38;5;241m=\u001b[39m\u001b[43mgpd\u001b[49m\u001b[38;5;241;43m.\u001b[39;49m\u001b[43mread_file\u001b[49m(os\u001b[38;5;241m.\u001b[39mpath\u001b[38;5;241m.\u001b[39mjoin(\u001b[38;5;124m\"\u001b[39m\u001b[38;5;124mmaps\u001b[39m\u001b[38;5;124m\"\u001b[39m,\u001b[38;5;124m\"\u001b[39m\u001b[38;5;124mWorld_Countries\u001b[39m\u001b[38;5;124m\"\u001b[39m,\u001b[38;5;124m\"\u001b[39m\u001b[38;5;124mWorld_Countries.shp\u001b[39m\u001b[38;5;124m\"\u001b[39m))\n\u001b[0;32m      4\u001b[0m rivers\u001b[38;5;241m=\u001b[39mgpd\u001b[38;5;241m.\u001b[39mread_file(os\u001b[38;5;241m.\u001b[39mpath\u001b[38;5;241m.\u001b[39mjoin(\u001b[38;5;124m\"\u001b[39m\u001b[38;5;124mmaps\u001b[39m\u001b[38;5;124m\"\u001b[39m,\u001b[38;5;124m\"\u001b[39m\u001b[38;5;124mWorld_Hydrography\u001b[39m\u001b[38;5;124m\"\u001b[39m,\u001b[38;5;124m\"\u001b[39m\u001b[38;5;124mWorld_Hydrography.shp\u001b[39m\u001b[38;5;124m\"\u001b[39m))\n\u001b[0;32m      5\u001b[0m cities\u001b[38;5;241m=\u001b[39mgpd\u001b[38;5;241m.\u001b[39mread_file(os\u001b[38;5;241m.\u001b[39mpath\u001b[38;5;241m.\u001b[39mjoin(\u001b[38;5;124m\"\u001b[39m\u001b[38;5;124mmaps\u001b[39m\u001b[38;5;124m\"\u001b[39m,\u001b[38;5;124m\"\u001b[39m\u001b[38;5;124mWorld_Cities\u001b[39m\u001b[38;5;124m\"\u001b[39m,\u001b[38;5;124m\"\u001b[39m\u001b[38;5;124mWorld_Cities.shp\u001b[39m\u001b[38;5;124m\"\u001b[39m))\n",
      "\u001b[1;31mAttributeError\u001b[0m: module 'geopandas' has no attribute 'read_file'"
     ]
    }
   ],
   "source": [
    "import os, geopandas as gpd\n",
    "\n",
    "countries=gpd.read_file(os.path.join(\"maps\",\"World_Countries\",\"World_Countries.shp\"))\n",
    "rivers=gpd.read_file(os.path.join(\"maps\",\"World_Hydrography\",\"World_Hydrography.shp\"))\n",
    "cities=gpd.read_file(os.path.join(\"maps\",\"World_Cities\",\"World_Cities.shp\"))"
   ]
  },
  {
   "cell_type": "code",
   "execution_count": null,
   "id": "c3b91245",
   "metadata": {},
   "outputs": [],
   "source": [
    "#SEGUNDO: Se llama al GEODataFrame contries para hacer uso de la libreria pandas"
   ]
  },
  {
   "cell_type": "code",
   "execution_count": null,
   "id": "0c5de7a1",
   "metadata": {},
   "outputs": [],
   "source": [
    "type(countries)"
   ]
  },
  {
   "cell_type": "code",
   "execution_count": null,
   "id": "3ed4bcce",
   "metadata": {},
   "outputs": [],
   "source": [
    "#TERCERO: Se elige un pais, en este caso: Alemania"
   ]
  },
  {
   "cell_type": "code",
   "execution_count": null,
   "id": "59ebd8a4",
   "metadata": {},
   "outputs": [],
   "source": [
    "alemania=countries[countries.COUNTRY=='Germany']"
   ]
  },
  {
   "cell_type": "code",
   "execution_count": null,
   "id": "e5e1c88c",
   "metadata": {},
   "outputs": [],
   "source": [
    "#CUARTO: Se plotea el mapa de Alemania y se configura el estilo de la imagen"
   ]
  },
  {
   "cell_type": "code",
   "execution_count": null,
   "id": "bdcfea3b",
   "metadata": {},
   "outputs": [],
   "source": [
    "    # Antes de plotear el mapa se verifica que posean el mismo sistema de proyeccion CRS"
   ]
  },
  {
   "cell_type": "code",
   "execution_count": null,
   "id": "cabd654a",
   "metadata": {},
   "outputs": [],
   "source": [
    "countries.crs"
   ]
  },
  {
   "cell_type": "code",
   "execution_count": null,
   "id": "b72d57c3",
   "metadata": {},
   "outputs": [],
   "source": [
    "cities=cities.to_crs(countries.crs)\n",
    "rivers=rivers.to_crs(countries.crs)"
   ]
  },
  {
   "cell_type": "code",
   "execution_count": null,
   "id": "e0dc74ac",
   "metadata": {},
   "outputs": [],
   "source": [
    "    #Ahora si se muestra a Alemania"
   ]
  },
  {
   "cell_type": "code",
   "execution_count": null,
   "id": "6824b60c",
   "metadata": {},
   "outputs": [],
   "source": [
    "alemania.plot() "
   ]
  },
  {
   "cell_type": "code",
   "execution_count": null,
   "id": "a54cbf6a",
   "metadata": {},
   "outputs": [],
   "source": [
    "#QUINTO: Se muestra la lista de las ciudades de Alemania"
   ]
  },
  {
   "cell_type": "code",
   "execution_count": null,
   "id": "8874f8eb",
   "metadata": {},
   "outputs": [],
   "source": [
    "cities=cities.to_crs(countries.crs)"
   ]
  },
  {
   "cell_type": "code",
   "execution_count": null,
   "id": "de3176a2",
   "metadata": {},
   "outputs": [],
   "source": [
    "cities_alemania=cities[cities.COUNTRY=='Germany']\n",
    "cities_alemania.shape\n"
   ]
  },
  {
   "cell_type": "code",
   "execution_count": null,
   "id": "00bd4a99",
   "metadata": {},
   "outputs": [],
   "source": [
    "cities_alemania.head()"
   ]
  },
  {
   "cell_type": "code",
   "execution_count": null,
   "id": "d2215975",
   "metadata": {},
   "outputs": [],
   "source": [
    "#SEXTO: Se plotean las ciudades de Alemania"
   ]
  },
  {
   "cell_type": "code",
   "execution_count": null,
   "id": "fc61cab1",
   "metadata": {},
   "outputs": [],
   "source": [
    "cities_alemania=cities[cities.COUNTRY=='Germany']\n",
    "cities_alemania.plot()"
   ]
  },
  {
   "cell_type": "code",
   "execution_count": null,
   "id": "d6fe381f",
   "metadata": {},
   "outputs": [],
   "source": [
    "#SETIMO: Se muestra la lista de los rios de Alemania"
   ]
  },
  {
   "cell_type": "code",
   "execution_count": null,
   "id": "929b19bf",
   "metadata": {},
   "outputs": [],
   "source": [
    "rivers_alemania = gpd.clip(gdf=rivers,mask=alemania)\n",
    "rivers_alemania.head()"
   ]
  },
  {
   "cell_type": "code",
   "execution_count": null,
   "id": "5a2689d4",
   "metadata": {},
   "outputs": [],
   "source": [
    "#OCTAVO: Se plotean los rios de Alemania"
   ]
  },
  {
   "cell_type": "code",
   "execution_count": null,
   "id": "5ffd10f8",
   "metadata": {},
   "outputs": [],
   "source": [
    "rivers_alemania = gpd.clip(gdf=rivers,mask=alemania)\n",
    "rivers_alemania.plot()"
   ]
  },
  {
   "cell_type": "code",
   "execution_count": null,
   "id": "e3771686",
   "metadata": {},
   "outputs": [],
   "source": [
    "#NOVENO: Se plotean las 3 capas anteriores en una sola figura"
   ]
  },
  {
   "cell_type": "code",
   "execution_count": null,
   "id": "3348e1f7",
   "metadata": {},
   "outputs": [],
   "source": [
    "base = alemania.plot(facecolor=\"greenyellow\", edgecolor='black', linewidth=0.4,figsize=(5,5))\n",
    "cities_alemania.plot(marker='+', color='red', markersize=15,ax=base)\n",
    "rivers_alemania.plot(edgecolor='blue', linewidth=0.5,ax=base)"
   ]
  },
  {
   "cell_type": "code",
   "execution_count": null,
   "id": "f8d49760",
   "metadata": {},
   "outputs": [],
   "source": []
  },
  {
   "cell_type": "code",
   "execution_count": null,
   "id": "51346c40",
   "metadata": {},
   "outputs": [],
   "source": []
  }
 ],
 "metadata": {
  "kernelspec": {
   "display_name": "Python 3 (ipykernel)",
   "language": "python",
   "name": "python3"
  },
  "language_info": {
   "codemirror_mode": {
    "name": "ipython",
    "version": 3
   },
   "file_extension": ".py",
   "mimetype": "text/x-python",
   "name": "python",
   "nbconvert_exporter": "python",
   "pygments_lexer": "ipython3",
   "version": "3.9.18"
  }
 },
 "nbformat": 4,
 "nbformat_minor": 5
}
